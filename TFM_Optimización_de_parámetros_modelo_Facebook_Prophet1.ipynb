{
  "nbformat": 4,
  "nbformat_minor": 0,
  "metadata": {
    "colab": {
      "name": "TFM_Optimización_de_parámetros_modelo_Facebook_Prophet1.ipynb",
      "provenance": [],
      "toc_visible": true
    },
    "kernelspec": {
      "name": "python3",
      "display_name": "Python 3"
    }
  },
  "cells": [
    {
      "cell_type": "markdown",
      "metadata": {
        "id": "HlqFgN8Mn5Wj",
        "colab_type": "text"
      },
      "source": [
        "**Optimización de parámetros  modelo Facebook Prophet**"
      ]
    },
    {
      "cell_type": "code",
      "metadata": {
        "id": "3DCqj9qoYaTG",
        "colab_type": "code",
        "outputId": "7e968c77-0d9e-46a0-b68f-49aa79d0fd7b",
        "colab": {
          "base_uri": "https://localhost:8080/",
          "height": 51
        }
      },
      "source": [
        "import numpy as np\n",
        "import pandas as pd\n",
        "from google.colab import drive\n",
        "import matplotlib.pyplot as plt\n",
        "from sklearn import metrics\n",
        "%matplotlib inline\n",
        "from matplotlib.pylab import rcParams\n",
        "import seaborn as sns\n",
        "rcParams['figure.figsize']=10,8"
      ],
      "execution_count": 0,
      "outputs": [
        {
          "output_type": "stream",
          "text": [
            "/usr/local/lib/python3.6/dist-packages/statsmodels/tools/_testing.py:19: FutureWarning: pandas.util.testing is deprecated. Use the functions in the public API at pandas.testing instead.\n",
            "  import pandas.util.testing as tm\n"
          ],
          "name": "stderr"
        }
      ]
    },
    {
      "cell_type": "code",
      "metadata": {
        "id": "JCZmTDtPYeb-",
        "colab_type": "code",
        "colab": {}
      },
      "source": [
        "import warnings\n",
        "import itertools\n",
        "warnings.filterwarnings(\"ignore\") # specify to ignore warning messages"
      ],
      "execution_count": 0,
      "outputs": []
    },
    {
      "cell_type": "code",
      "metadata": {
        "id": "t5KOVcn-YhNu",
        "colab_type": "code",
        "outputId": "4c086123-6d1c-45f6-d01e-3c552dfbc1a2",
        "colab": {
          "base_uri": "https://localhost:8080/",
          "height": 122
        }
      },
      "source": [
        "drive.mount('/content/gdrive')"
      ],
      "execution_count": 0,
      "outputs": [
        {
          "output_type": "stream",
          "text": [
            "Go to this URL in a browser: https://accounts.google.com/o/oauth2/auth?client_id=947318989803-6bn6qk8qdgf4n4g3pfee6491hc0brc4i.apps.googleusercontent.com&redirect_uri=urn%3aietf%3awg%3aoauth%3a2.0%3aoob&response_type=code&scope=email%20https%3a%2f%2fwww.googleapis.com%2fauth%2fdocs.test%20https%3a%2f%2fwww.googleapis.com%2fauth%2fdrive%20https%3a%2f%2fwww.googleapis.com%2fauth%2fdrive.photos.readonly%20https%3a%2f%2fwww.googleapis.com%2fauth%2fpeopleapi.readonly\n",
            "\n",
            "Enter your authorization code:\n",
            "··········\n",
            "Mounted at /content/gdrive\n"
          ],
          "name": "stdout"
        }
      ]
    },
    {
      "cell_type": "code",
      "metadata": {
        "id": "gGjG4fFXYn4-",
        "colab_type": "code",
        "colab": {}
      },
      "source": [
        "df = pd.read_csv('/content/gdrive/My Drive/df_clean.csv', parse_dates=['Datetime'], index_col='Datetime',  header=0)\n"
      ],
      "execution_count": 0,
      "outputs": []
    },
    {
      "cell_type": "code",
      "metadata": {
        "id": "T30KaY1jYv6n",
        "colab_type": "code",
        "colab": {}
      },
      "source": [
        "import logging\n",
        "logging.getLogger('fbprophet').setLevel(logging.ERROR)\n"
      ],
      "execution_count": 0,
      "outputs": []
    },
    {
      "cell_type": "code",
      "metadata": {
        "id": "-t1YSlPgY1ZN",
        "colab_type": "code",
        "colab": {}
      },
      "source": [
        "import fbprophet\n",
        "import holidays\n",
        "Prophet = fbprophet.Prophet"
      ],
      "execution_count": 0,
      "outputs": []
    },
    {
      "cell_type": "code",
      "metadata": {
        "id": "dUHq63xKY3oE",
        "colab_type": "code",
        "colab": {}
      },
      "source": [
        "upsampled = df.resample('D')\n",
        "interpolated = upsampled.interpolate(method='linear')\n",
        "len(interpolated)\n",
        "df_o3_resample = interpolated\n",
        "df_prophet=df_o3_resample\n",
        "df_prophet=df_prophet.reset_index()\n",
        "df_prophet=df_prophet.rename(columns={'Datetime':'ds',\n",
        "                     'O3':'y'})"
      ],
      "execution_count": 0,
      "outputs": []
    },
    {
      "cell_type": "code",
      "metadata": {
        "id": "ucP2ORnjZM-F",
        "colab_type": "code",
        "outputId": "a914035b-e8fc-47ac-98fe-78e28847d4b3",
        "colab": {
          "base_uri": "https://localhost:8080/",
          "height": 187
        }
      },
      "source": [
        "holidays_df = pd.DataFrame([], columns = ['ds','holiday'])\n",
        "ldates = []\n",
        "lnames = []\n",
        "for date, name in sorted(holidays.UK( years=np.arange(2008, 2019 + 1)).items()):\n",
        "    ldates.append(date)\n",
        "    lnames.append(name)\n",
        "holidays_df.loc[:,'ds'] = ldates\n",
        "holidays_df.loc[:,'holiday'] = lnames\n",
        "holidays_df.loc[:,'holiday'] = holidays_df.loc[:,'holiday'].apply(lambda x : x.replace(' (Observed)',''))\n",
        "holidays_df.holiday.unique()"
      ],
      "execution_count": 0,
      "outputs": [
        {
          "output_type": "execute_result",
          "data": {
            "text/plain": [
              "array([\"New Year's Day\", 'New Year Holiday [Scotland]',\n",
              "       \"St. Patrick's Day [Northern Ireland]\", 'Good Friday',\n",
              "       'Easter Monday [England, Wales, Northern Ireland]', 'May Day',\n",
              "       'Spring Bank Holiday', 'Battle of the Boyne [Northern Ireland]',\n",
              "       'Summer Bank Holiday [Scotland]',\n",
              "       'Late Summer Bank Holiday [England, Wales, Northern Ireland]',\n",
              "       \"St. Andrew's Day [Scotland]\", 'Christmas Day', 'Boxing Day',\n",
              "       'Wedding of William and Catherine',\n",
              "       \"New Year Holiday [Scotland], New Year's Day\",\n",
              "       'Diamond Jubilee of Elizabeth II'], dtype=object)"
            ]
          },
          "metadata": {
            "tags": []
          },
          "execution_count": 36
        }
      ]
    },
    {
      "cell_type": "code",
      "metadata": {
        "id": "3USGmvffZbRM",
        "colab_type": "code",
        "colab": {}
      },
      "source": [
        "TEST_SIZE = 365\n",
        "train, test = df_prophet.iloc[:-TEST_SIZE], df_prophet.iloc[-TEST_SIZE:]   "
      ],
      "execution_count": 0,
      "outputs": []
    },
    {
      "cell_type": "code",
      "metadata": {
        "id": "_kjl_NxHZdlM",
        "colab_type": "code",
        "outputId": "cabcd9af-217b-448d-dc72-d47353692579",
        "colab": {
          "base_uri": "https://localhost:8080/",
          "height": 34
        }
      },
      "source": [
        "from sklearn.model_selection import ParameterGrid\n",
        "params_grid = {'seasonality_mode':('multiplicative','additive'),\n",
        "               'seasonality_prior_scale':[0.01, 0.1,0.5],\n",
        "               'changepoint_prior_scale':[0.001, 0.01, 100,200],\n",
        "              \n",
        "              'n_changepoints' : [100,150,200]}\n",
        "grid = ParameterGrid(params_grid)\n",
        "cnt = 0\n",
        "for p in grid:\n",
        "    cnt = cnt+1\n",
        "\n",
        "print('Total Possible Models',cnt)"
      ],
      "execution_count": 0,
      "outputs": [
        {
          "output_type": "stream",
          "text": [
            "Total Possible Models 72\n"
          ],
          "name": "stdout"
        }
      ]
    },
    {
      "cell_type": "code",
      "metadata": {
        "id": "HdfFKldFZgCn",
        "colab_type": "code",
        "colab": {}
      },
      "source": [
        "def mean_absolute_percentage_error(y_true, y_pred): \n",
        "    y_true, y_pred = np.array(y_true), np.array(y_pred)\n",
        "    return np.mean(np.abs((y_true - y_pred) / y_true)) * 100"
      ],
      "execution_count": 0,
      "outputs": []
    },
    {
      "cell_type": "code",
      "metadata": {
        "id": "e0_S7SNaZiJk",
        "colab_type": "code",
        "outputId": "7f4fb83b-ad27-4bd8-9096-38d1eb57ecaf",
        "colab": {
          "base_uri": "https://localhost:8080/",
          "height": 1000
        }
      },
      "source": [
        "import random\n",
        "\n",
        "strt='2018-07-01'\n",
        "end='2019-07-01'\n",
        "model_parameters = pd.DataFrame(columns = ['MAPE','Parameters'])\n",
        "for p in grid:\n",
        "  test = pd.DataFrame()\n",
        "  print(p)\n",
        "  random.seed(0)\n",
        "  train_model =Prophet(holidays=holidays_df, changepoint_prior_scale = p['changepoint_prior_scale'],\n",
        "                         seasonality_prior_scale = p['seasonality_prior_scale'],\n",
        "                         n_changepoints = p['n_changepoints'],\n",
        "                         seasonality_mode = p['seasonality_mode'],\n",
        "                         weekly_seasonality=True,\n",
        "                         daily_seasonality = True,\n",
        "                         yearly_seasonality = True,\n",
        "                         interval_width=0.95)  \n",
        "  train_model.fit(train)\n",
        "  train_forecast = train_model.make_future_dataframe(periods=365, freq='D',include_history = False)\n",
        "  train_forecast = train_model.predict(train_forecast)\n",
        "  test=train_forecast[['ds','yhat']]\n",
        "  Actual = df_prophet[(df_prophet['ds']>strt) & (df_prophet['ds']<=end)]\n",
        "  MAPE = mean_absolute_percentage_error(Actual['y'],abs(test['yhat']))\n",
        "  print('Mean Absolute Percentage Error(MAPE)------------------------------------',MAPE)\n",
        "  model_parameters = model_parameters.append({'MAPE':MAPE,'Parameters':p},ignore_index=True)"
      ],
      "execution_count": 0,
      "outputs": [
        {
          "output_type": "stream",
          "text": [
            "{'changepoint_prior_scale': 0.001, 'n_changepoints': 100, 'seasonality_mode': 'multiplicative', 'seasonality_prior_scale': 0.01}\n",
            "Mean Absolute Percentage Error(MAPE)------------------------------------ 11.590859837853312\n",
            "{'changepoint_prior_scale': 0.001, 'n_changepoints': 100, 'seasonality_mode': 'multiplicative', 'seasonality_prior_scale': 0.1}\n",
            "Mean Absolute Percentage Error(MAPE)------------------------------------ 11.61413622386076\n",
            "{'changepoint_prior_scale': 0.001, 'n_changepoints': 100, 'seasonality_mode': 'multiplicative', 'seasonality_prior_scale': 0.5}\n",
            "Mean Absolute Percentage Error(MAPE)------------------------------------ 11.301374169061198\n",
            "{'changepoint_prior_scale': 0.001, 'n_changepoints': 100, 'seasonality_mode': 'additive', 'seasonality_prior_scale': 0.01}\n",
            "Mean Absolute Percentage Error(MAPE)------------------------------------ 11.358695005450636\n",
            "{'changepoint_prior_scale': 0.001, 'n_changepoints': 100, 'seasonality_mode': 'additive', 'seasonality_prior_scale': 0.1}\n",
            "Mean Absolute Percentage Error(MAPE)------------------------------------ 12.311532553791887\n",
            "{'changepoint_prior_scale': 0.001, 'n_changepoints': 100, 'seasonality_mode': 'additive', 'seasonality_prior_scale': 0.5}\n",
            "Mean Absolute Percentage Error(MAPE)------------------------------------ 11.867674389537495\n",
            "{'changepoint_prior_scale': 0.001, 'n_changepoints': 150, 'seasonality_mode': 'multiplicative', 'seasonality_prior_scale': 0.01}\n",
            "Mean Absolute Percentage Error(MAPE)------------------------------------ 11.171642313322177\n",
            "{'changepoint_prior_scale': 0.001, 'n_changepoints': 150, 'seasonality_mode': 'multiplicative', 'seasonality_prior_scale': 0.1}\n",
            "Mean Absolute Percentage Error(MAPE)------------------------------------ 11.217960520282343\n",
            "{'changepoint_prior_scale': 0.001, 'n_changepoints': 150, 'seasonality_mode': 'multiplicative', 'seasonality_prior_scale': 0.5}\n",
            "Mean Absolute Percentage Error(MAPE)------------------------------------ 12.038158359827507\n",
            "{'changepoint_prior_scale': 0.001, 'n_changepoints': 150, 'seasonality_mode': 'additive', 'seasonality_prior_scale': 0.01}\n",
            "Mean Absolute Percentage Error(MAPE)------------------------------------ 11.619666814218105\n",
            "{'changepoint_prior_scale': 0.001, 'n_changepoints': 150, 'seasonality_mode': 'additive', 'seasonality_prior_scale': 0.1}\n",
            "Mean Absolute Percentage Error(MAPE)------------------------------------ 11.633488352864365\n",
            "{'changepoint_prior_scale': 0.001, 'n_changepoints': 150, 'seasonality_mode': 'additive', 'seasonality_prior_scale': 0.5}\n",
            "Mean Absolute Percentage Error(MAPE)------------------------------------ 12.168267121423346\n",
            "{'changepoint_prior_scale': 0.001, 'n_changepoints': 200, 'seasonality_mode': 'multiplicative', 'seasonality_prior_scale': 0.01}\n",
            "Mean Absolute Percentage Error(MAPE)------------------------------------ 10.919445218095847\n",
            "{'changepoint_prior_scale': 0.001, 'n_changepoints': 200, 'seasonality_mode': 'multiplicative', 'seasonality_prior_scale': 0.1}\n",
            "Mean Absolute Percentage Error(MAPE)------------------------------------ 11.286269799734798\n",
            "{'changepoint_prior_scale': 0.001, 'n_changepoints': 200, 'seasonality_mode': 'multiplicative', 'seasonality_prior_scale': 0.5}\n",
            "Mean Absolute Percentage Error(MAPE)------------------------------------ 11.467033591286002\n",
            "{'changepoint_prior_scale': 0.001, 'n_changepoints': 200, 'seasonality_mode': 'additive', 'seasonality_prior_scale': 0.01}\n",
            "Mean Absolute Percentage Error(MAPE)------------------------------------ 11.196151162829622\n",
            "{'changepoint_prior_scale': 0.001, 'n_changepoints': 200, 'seasonality_mode': 'additive', 'seasonality_prior_scale': 0.1}\n",
            "Mean Absolute Percentage Error(MAPE)------------------------------------ 11.722946322218393\n",
            "{'changepoint_prior_scale': 0.001, 'n_changepoints': 200, 'seasonality_mode': 'additive', 'seasonality_prior_scale': 0.5}\n",
            "Mean Absolute Percentage Error(MAPE)------------------------------------ 11.94403271362826\n",
            "{'changepoint_prior_scale': 0.01, 'n_changepoints': 100, 'seasonality_mode': 'multiplicative', 'seasonality_prior_scale': 0.01}\n",
            "Mean Absolute Percentage Error(MAPE)------------------------------------ 10.105819851461405\n",
            "{'changepoint_prior_scale': 0.01, 'n_changepoints': 100, 'seasonality_mode': 'multiplicative', 'seasonality_prior_scale': 0.1}\n",
            "Mean Absolute Percentage Error(MAPE)------------------------------------ 10.60496212744377\n",
            "{'changepoint_prior_scale': 0.01, 'n_changepoints': 100, 'seasonality_mode': 'multiplicative', 'seasonality_prior_scale': 0.5}\n",
            "Mean Absolute Percentage Error(MAPE)------------------------------------ 15.375431588654981\n",
            "{'changepoint_prior_scale': 0.01, 'n_changepoints': 100, 'seasonality_mode': 'additive', 'seasonality_prior_scale': 0.01}\n",
            "Mean Absolute Percentage Error(MAPE)------------------------------------ 10.401622105657017\n",
            "{'changepoint_prior_scale': 0.01, 'n_changepoints': 100, 'seasonality_mode': 'additive', 'seasonality_prior_scale': 0.1}\n",
            "Mean Absolute Percentage Error(MAPE)------------------------------------ 10.874376010682045\n",
            "{'changepoint_prior_scale': 0.01, 'n_changepoints': 100, 'seasonality_mode': 'additive', 'seasonality_prior_scale': 0.5}\n",
            "Mean Absolute Percentage Error(MAPE)------------------------------------ 10.886516535751838\n",
            "{'changepoint_prior_scale': 0.01, 'n_changepoints': 150, 'seasonality_mode': 'multiplicative', 'seasonality_prior_scale': 0.01}\n",
            "Mean Absolute Percentage Error(MAPE)------------------------------------ 10.116928829168343\n",
            "{'changepoint_prior_scale': 0.01, 'n_changepoints': 150, 'seasonality_mode': 'multiplicative', 'seasonality_prior_scale': 0.1}\n",
            "Mean Absolute Percentage Error(MAPE)------------------------------------ 10.73026166392578\n",
            "{'changepoint_prior_scale': 0.01, 'n_changepoints': 150, 'seasonality_mode': 'multiplicative', 'seasonality_prior_scale': 0.5}\n",
            "Mean Absolute Percentage Error(MAPE)------------------------------------ 16.51502266940859\n",
            "{'changepoint_prior_scale': 0.01, 'n_changepoints': 150, 'seasonality_mode': 'additive', 'seasonality_prior_scale': 0.01}\n",
            "Mean Absolute Percentage Error(MAPE)------------------------------------ 10.44623124181261\n",
            "{'changepoint_prior_scale': 0.01, 'n_changepoints': 150, 'seasonality_mode': 'additive', 'seasonality_prior_scale': 0.1}\n",
            "Mean Absolute Percentage Error(MAPE)------------------------------------ 10.882934200133363\n",
            "{'changepoint_prior_scale': 0.01, 'n_changepoints': 150, 'seasonality_mode': 'additive', 'seasonality_prior_scale': 0.5}\n",
            "Mean Absolute Percentage Error(MAPE)------------------------------------ 10.885433412331595\n",
            "{'changepoint_prior_scale': 0.01, 'n_changepoints': 200, 'seasonality_mode': 'multiplicative', 'seasonality_prior_scale': 0.01}\n",
            "Mean Absolute Percentage Error(MAPE)------------------------------------ 10.101205058946354\n",
            "{'changepoint_prior_scale': 0.01, 'n_changepoints': 200, 'seasonality_mode': 'multiplicative', 'seasonality_prior_scale': 0.1}\n",
            "Mean Absolute Percentage Error(MAPE)------------------------------------ 10.646271273967029\n",
            "{'changepoint_prior_scale': 0.01, 'n_changepoints': 200, 'seasonality_mode': 'multiplicative', 'seasonality_prior_scale': 0.5}\n",
            "Mean Absolute Percentage Error(MAPE)------------------------------------ 15.110068596558355\n",
            "{'changepoint_prior_scale': 0.01, 'n_changepoints': 200, 'seasonality_mode': 'additive', 'seasonality_prior_scale': 0.01}\n",
            "Mean Absolute Percentage Error(MAPE)------------------------------------ 10.437679980025273\n",
            "{'changepoint_prior_scale': 0.01, 'n_changepoints': 200, 'seasonality_mode': 'additive', 'seasonality_prior_scale': 0.1}\n",
            "Mean Absolute Percentage Error(MAPE)------------------------------------ 10.887746904984388\n",
            "{'changepoint_prior_scale': 0.01, 'n_changepoints': 200, 'seasonality_mode': 'additive', 'seasonality_prior_scale': 0.5}\n",
            "Mean Absolute Percentage Error(MAPE)------------------------------------ 10.899998962437069\n",
            "{'changepoint_prior_scale': 100, 'n_changepoints': 100, 'seasonality_mode': 'multiplicative', 'seasonality_prior_scale': 0.01}\n",
            "Mean Absolute Percentage Error(MAPE)------------------------------------ 22.276328766279157\n",
            "{'changepoint_prior_scale': 100, 'n_changepoints': 100, 'seasonality_mode': 'multiplicative', 'seasonality_prior_scale': 0.1}\n",
            "Mean Absolute Percentage Error(MAPE)------------------------------------ 19.13733205520835\n",
            "{'changepoint_prior_scale': 100, 'n_changepoints': 100, 'seasonality_mode': 'multiplicative', 'seasonality_prior_scale': 0.5}\n",
            "Mean Absolute Percentage Error(MAPE)------------------------------------ 19.170619089825752\n",
            "{'changepoint_prior_scale': 100, 'n_changepoints': 100, 'seasonality_mode': 'additive', 'seasonality_prior_scale': 0.01}\n",
            "Mean Absolute Percentage Error(MAPE)------------------------------------ 21.038668055605086\n",
            "{'changepoint_prior_scale': 100, 'n_changepoints': 100, 'seasonality_mode': 'additive', 'seasonality_prior_scale': 0.1}\n",
            "Mean Absolute Percentage Error(MAPE)------------------------------------ 20.873761448115175\n",
            "{'changepoint_prior_scale': 100, 'n_changepoints': 100, 'seasonality_mode': 'additive', 'seasonality_prior_scale': 0.5}\n",
            "Mean Absolute Percentage Error(MAPE)------------------------------------ 19.996285775402303\n",
            "{'changepoint_prior_scale': 100, 'n_changepoints': 150, 'seasonality_mode': 'multiplicative', 'seasonality_prior_scale': 0.01}\n",
            "Mean Absolute Percentage Error(MAPE)------------------------------------ 22.1647728635297\n",
            "{'changepoint_prior_scale': 100, 'n_changepoints': 150, 'seasonality_mode': 'multiplicative', 'seasonality_prior_scale': 0.1}\n",
            "Mean Absolute Percentage Error(MAPE)------------------------------------ 19.167062562912967\n",
            "{'changepoint_prior_scale': 100, 'n_changepoints': 150, 'seasonality_mode': 'multiplicative', 'seasonality_prior_scale': 0.5}\n",
            "Mean Absolute Percentage Error(MAPE)------------------------------------ 18.702935209046196\n",
            "{'changepoint_prior_scale': 100, 'n_changepoints': 150, 'seasonality_mode': 'additive', 'seasonality_prior_scale': 0.01}\n",
            "Mean Absolute Percentage Error(MAPE)------------------------------------ 21.932591572529578\n",
            "{'changepoint_prior_scale': 100, 'n_changepoints': 150, 'seasonality_mode': 'additive', 'seasonality_prior_scale': 0.1}\n",
            "Mean Absolute Percentage Error(MAPE)------------------------------------ 20.42578720011392\n",
            "{'changepoint_prior_scale': 100, 'n_changepoints': 150, 'seasonality_mode': 'additive', 'seasonality_prior_scale': 0.5}\n",
            "Mean Absolute Percentage Error(MAPE)------------------------------------ 20.828230717105928\n",
            "{'changepoint_prior_scale': 100, 'n_changepoints': 200, 'seasonality_mode': 'multiplicative', 'seasonality_prior_scale': 0.01}\n",
            "Mean Absolute Percentage Error(MAPE)------------------------------------ 21.31528471184429\n",
            "{'changepoint_prior_scale': 100, 'n_changepoints': 200, 'seasonality_mode': 'multiplicative', 'seasonality_prior_scale': 0.1}\n",
            "Mean Absolute Percentage Error(MAPE)------------------------------------ 19.75277491212078\n",
            "{'changepoint_prior_scale': 100, 'n_changepoints': 200, 'seasonality_mode': 'multiplicative', 'seasonality_prior_scale': 0.5}\n",
            "Mean Absolute Percentage Error(MAPE)------------------------------------ 19.039430850579294\n",
            "{'changepoint_prior_scale': 100, 'n_changepoints': 200, 'seasonality_mode': 'additive', 'seasonality_prior_scale': 0.01}\n",
            "Mean Absolute Percentage Error(MAPE)------------------------------------ 21.766446903927523\n",
            "{'changepoint_prior_scale': 100, 'n_changepoints': 200, 'seasonality_mode': 'additive', 'seasonality_prior_scale': 0.1}\n",
            "Mean Absolute Percentage Error(MAPE)------------------------------------ 20.500030924553876\n",
            "{'changepoint_prior_scale': 100, 'n_changepoints': 200, 'seasonality_mode': 'additive', 'seasonality_prior_scale': 0.5}\n",
            "Mean Absolute Percentage Error(MAPE)------------------------------------ 20.81291909951932\n",
            "{'changepoint_prior_scale': 200, 'n_changepoints': 100, 'seasonality_mode': 'multiplicative', 'seasonality_prior_scale': 0.01}\n",
            "Mean Absolute Percentage Error(MAPE)------------------------------------ 21.131528824074664\n",
            "{'changepoint_prior_scale': 200, 'n_changepoints': 100, 'seasonality_mode': 'multiplicative', 'seasonality_prior_scale': 0.1}\n",
            "Mean Absolute Percentage Error(MAPE)------------------------------------ 18.893243817958695\n",
            "{'changepoint_prior_scale': 200, 'n_changepoints': 100, 'seasonality_mode': 'multiplicative', 'seasonality_prior_scale': 0.5}\n",
            "Mean Absolute Percentage Error(MAPE)------------------------------------ 18.96767059804094\n",
            "{'changepoint_prior_scale': 200, 'n_changepoints': 100, 'seasonality_mode': 'additive', 'seasonality_prior_scale': 0.01}\n",
            "Mean Absolute Percentage Error(MAPE)------------------------------------ 22.35844301851703\n",
            "{'changepoint_prior_scale': 200, 'n_changepoints': 100, 'seasonality_mode': 'additive', 'seasonality_prior_scale': 0.1}\n",
            "Mean Absolute Percentage Error(MAPE)------------------------------------ 20.903781338234182\n",
            "{'changepoint_prior_scale': 200, 'n_changepoints': 100, 'seasonality_mode': 'additive', 'seasonality_prior_scale': 0.5}\n",
            "Mean Absolute Percentage Error(MAPE)------------------------------------ 20.765818876119326\n",
            "{'changepoint_prior_scale': 200, 'n_changepoints': 150, 'seasonality_mode': 'multiplicative', 'seasonality_prior_scale': 0.01}\n",
            "Mean Absolute Percentage Error(MAPE)------------------------------------ 21.37011389890682\n",
            "{'changepoint_prior_scale': 200, 'n_changepoints': 150, 'seasonality_mode': 'multiplicative', 'seasonality_prior_scale': 0.1}\n",
            "Mean Absolute Percentage Error(MAPE)------------------------------------ 18.893976489652356\n",
            "{'changepoint_prior_scale': 200, 'n_changepoints': 150, 'seasonality_mode': 'multiplicative', 'seasonality_prior_scale': 0.5}\n",
            "Mean Absolute Percentage Error(MAPE)------------------------------------ 18.6853760599701\n",
            "{'changepoint_prior_scale': 200, 'n_changepoints': 150, 'seasonality_mode': 'additive', 'seasonality_prior_scale': 0.01}\n",
            "Mean Absolute Percentage Error(MAPE)------------------------------------ 21.91581050091928\n",
            "{'changepoint_prior_scale': 200, 'n_changepoints': 150, 'seasonality_mode': 'additive', 'seasonality_prior_scale': 0.1}\n",
            "Mean Absolute Percentage Error(MAPE)------------------------------------ 20.74553375778363\n",
            "{'changepoint_prior_scale': 200, 'n_changepoints': 150, 'seasonality_mode': 'additive', 'seasonality_prior_scale': 0.5}\n",
            "Mean Absolute Percentage Error(MAPE)------------------------------------ 20.67523759486717\n",
            "{'changepoint_prior_scale': 200, 'n_changepoints': 200, 'seasonality_mode': 'multiplicative', 'seasonality_prior_scale': 0.01}\n",
            "Mean Absolute Percentage Error(MAPE)------------------------------------ 21.267235212339074\n",
            "{'changepoint_prior_scale': 200, 'n_changepoints': 200, 'seasonality_mode': 'multiplicative', 'seasonality_prior_scale': 0.1}\n",
            "Mean Absolute Percentage Error(MAPE)------------------------------------ 19.72418602893605\n",
            "{'changepoint_prior_scale': 200, 'n_changepoints': 200, 'seasonality_mode': 'multiplicative', 'seasonality_prior_scale': 0.5}\n",
            "Mean Absolute Percentage Error(MAPE)------------------------------------ 18.87900074746291\n",
            "{'changepoint_prior_scale': 200, 'n_changepoints': 200, 'seasonality_mode': 'additive', 'seasonality_prior_scale': 0.01}\n",
            "Mean Absolute Percentage Error(MAPE)------------------------------------ 21.719736822846137\n",
            "{'changepoint_prior_scale': 200, 'n_changepoints': 200, 'seasonality_mode': 'additive', 'seasonality_prior_scale': 0.1}\n",
            "Mean Absolute Percentage Error(MAPE)------------------------------------ 20.92796164569608\n",
            "{'changepoint_prior_scale': 200, 'n_changepoints': 200, 'seasonality_mode': 'additive', 'seasonality_prior_scale': 0.5}\n",
            "Mean Absolute Percentage Error(MAPE)------------------------------------ 20.652337941612526\n"
          ],
          "name": "stdout"
        }
      ]
    },
    {
      "cell_type": "code",
      "metadata": {
        "id": "uV3N9RqGdeFg",
        "colab_type": "code",
        "outputId": "1a23c328-4594-4a40-9b04-98cabd4d564d",
        "colab": {
          "base_uri": "https://localhost:8080/",
          "height": 204
        }
      },
      "source": [
        "parameters_fb = model_parameters.sort_values(by=['MAPE'])\n",
        "parameters_fb = parameters_fb.reset_index(drop=True)\n",
        "parameters_fb.to_csv('parameters_fb_prophet.csv')\n",
        "parameters_fb.head()"
      ],
      "execution_count": 0,
      "outputs": [
        {
          "output_type": "execute_result",
          "data": {
            "text/html": [
              "<div>\n",
              "<style scoped>\n",
              "    .dataframe tbody tr th:only-of-type {\n",
              "        vertical-align: middle;\n",
              "    }\n",
              "\n",
              "    .dataframe tbody tr th {\n",
              "        vertical-align: top;\n",
              "    }\n",
              "\n",
              "    .dataframe thead th {\n",
              "        text-align: right;\n",
              "    }\n",
              "</style>\n",
              "<table border=\"1\" class=\"dataframe\">\n",
              "  <thead>\n",
              "    <tr style=\"text-align: right;\">\n",
              "      <th></th>\n",
              "      <th>MAPE</th>\n",
              "      <th>Parameters</th>\n",
              "    </tr>\n",
              "  </thead>\n",
              "  <tbody>\n",
              "    <tr>\n",
              "      <th>0</th>\n",
              "      <td>10.101205</td>\n",
              "      <td>{'changepoint_prior_scale': 0.01, 'n_changepoi...</td>\n",
              "    </tr>\n",
              "    <tr>\n",
              "      <th>1</th>\n",
              "      <td>10.105820</td>\n",
              "      <td>{'changepoint_prior_scale': 0.01, 'n_changepoi...</td>\n",
              "    </tr>\n",
              "    <tr>\n",
              "      <th>2</th>\n",
              "      <td>10.116929</td>\n",
              "      <td>{'changepoint_prior_scale': 0.01, 'n_changepoi...</td>\n",
              "    </tr>\n",
              "    <tr>\n",
              "      <th>3</th>\n",
              "      <td>10.401622</td>\n",
              "      <td>{'changepoint_prior_scale': 0.01, 'n_changepoi...</td>\n",
              "    </tr>\n",
              "    <tr>\n",
              "      <th>4</th>\n",
              "      <td>10.437680</td>\n",
              "      <td>{'changepoint_prior_scale': 0.01, 'n_changepoi...</td>\n",
              "    </tr>\n",
              "  </tbody>\n",
              "</table>\n",
              "</div>"
            ],
            "text/plain": [
              "        MAPE                                         Parameters\n",
              "0  10.101205  {'changepoint_prior_scale': 0.01, 'n_changepoi...\n",
              "1  10.105820  {'changepoint_prior_scale': 0.01, 'n_changepoi...\n",
              "2  10.116929  {'changepoint_prior_scale': 0.01, 'n_changepoi...\n",
              "3  10.401622  {'changepoint_prior_scale': 0.01, 'n_changepoi...\n",
              "4  10.437680  {'changepoint_prior_scale': 0.01, 'n_changepoi..."
            ]
          },
          "metadata": {
            "tags": []
          },
          "execution_count": 55
        }
      ]
    },
    {
      "cell_type": "code",
      "metadata": {
        "id": "gao4NgMUk9Wg",
        "colab_type": "code",
        "outputId": "00daf10e-1ebc-4b10-ef42-07e1b5f719c0",
        "colab": {
          "base_uri": "https://localhost:8080/",
          "height": 85
        }
      },
      "source": [
        "parameters_fb['Parameters'][0]"
      ],
      "execution_count": 0,
      "outputs": [
        {
          "output_type": "execute_result",
          "data": {
            "text/plain": [
              "{'changepoint_prior_scale': 0.01,\n",
              " 'n_changepoints': 200,\n",
              " 'seasonality_mode': 'multiplicative',\n",
              " 'seasonality_prior_scale': 0.01}"
            ]
          },
          "metadata": {
            "tags": []
          },
          "execution_count": 56
        }
      ]
    },
    {
      "cell_type": "markdown",
      "metadata": {
        "id": "NWSYpSJcUxtV",
        "colab_type": "text"
      },
      "source": [
        "Parámetros sin festivos"
      ]
    },
    {
      "cell_type": "code",
      "metadata": {
        "id": "jIq8dM6wUrpC",
        "colab_type": "code",
        "outputId": "f31a9cbe-efcf-4f20-d7b9-96c3209fdc2a",
        "colab": {
          "base_uri": "https://localhost:8080/",
          "height": 1000
        }
      },
      "source": [
        "import random\n",
        "\n",
        "strt='2018-07-01'\n",
        "end='2019-07-01'\n",
        "model_parameters = pd.DataFrame(columns = ['MAPE','Parameters'])\n",
        "for p in grid:\n",
        "  test = pd.DataFrame()\n",
        "  print(p)\n",
        "  random.seed(0)\n",
        "  train_model =Prophet( changepoint_prior_scale = p['changepoint_prior_scale'],\n",
        "                         seasonality_prior_scale = p['seasonality_prior_scale'],\n",
        "                         n_changepoints = p['n_changepoints'],\n",
        "                         seasonality_mode = p['seasonality_mode'],\n",
        "                         weekly_seasonality=True,\n",
        "                         daily_seasonality = True,\n",
        "                         yearly_seasonality = True,\n",
        "                         interval_width=0.95)  \n",
        "  train_model.fit(train)\n",
        "  train_forecast = train_model.make_future_dataframe(periods=365, freq='D',include_history = False)\n",
        "  train_forecast = train_model.predict(train_forecast)\n",
        "  test=train_forecast[['ds','yhat']]\n",
        "  Actual = df_prophet[(df_prophet['ds']>strt) & (df_prophet['ds']<=end)]\n",
        "  MAPE = mean_absolute_percentage_error(Actual['y'],abs(test['yhat']))\n",
        "  print('Mean Absolute Percentage Error(MAPE)------------------------------------',MAPE)\n",
        "  model_parameters = model_parameters.append({'MAPE':MAPE,'Parameters':p},ignore_index=True)"
      ],
      "execution_count": 0,
      "outputs": [
        {
          "output_type": "stream",
          "text": [
            "{'changepoint_prior_scale': 0.001, 'n_changepoints': 100, 'seasonality_mode': 'multiplicative', 'seasonality_prior_scale': 0.01}\n"
          ],
          "name": "stdout"
        },
        {
          "output_type": "stream",
          "text": [
            "INFO:numexpr.utils:NumExpr defaulting to 2 threads.\n"
          ],
          "name": "stderr"
        },
        {
          "output_type": "stream",
          "text": [
            "Mean Absolute Percentage Error(MAPE)------------------------------------ 11.39103829264022\n",
            "{'changepoint_prior_scale': 0.001, 'n_changepoints': 100, 'seasonality_mode': 'multiplicative', 'seasonality_prior_scale': 0.1}\n",
            "Mean Absolute Percentage Error(MAPE)------------------------------------ 11.348215998485259\n",
            "{'changepoint_prior_scale': 0.001, 'n_changepoints': 100, 'seasonality_mode': 'multiplicative', 'seasonality_prior_scale': 0.5}\n",
            "Mean Absolute Percentage Error(MAPE)------------------------------------ 11.99783709359892\n",
            "{'changepoint_prior_scale': 0.001, 'n_changepoints': 100, 'seasonality_mode': 'additive', 'seasonality_prior_scale': 0.01}\n",
            "Mean Absolute Percentage Error(MAPE)------------------------------------ 12.063209066557668\n",
            "{'changepoint_prior_scale': 0.001, 'n_changepoints': 100, 'seasonality_mode': 'additive', 'seasonality_prior_scale': 0.1}\n",
            "Mean Absolute Percentage Error(MAPE)------------------------------------ 11.695726320512684\n",
            "{'changepoint_prior_scale': 0.001, 'n_changepoints': 100, 'seasonality_mode': 'additive', 'seasonality_prior_scale': 0.5}\n",
            "Mean Absolute Percentage Error(MAPE)------------------------------------ 12.040625213075653\n",
            "{'changepoint_prior_scale': 0.001, 'n_changepoints': 150, 'seasonality_mode': 'multiplicative', 'seasonality_prior_scale': 0.01}\n",
            "Mean Absolute Percentage Error(MAPE)------------------------------------ 10.792036237855699\n",
            "{'changepoint_prior_scale': 0.001, 'n_changepoints': 150, 'seasonality_mode': 'multiplicative', 'seasonality_prior_scale': 0.1}\n",
            "Mean Absolute Percentage Error(MAPE)------------------------------------ 11.785340156666871\n",
            "{'changepoint_prior_scale': 0.001, 'n_changepoints': 150, 'seasonality_mode': 'multiplicative', 'seasonality_prior_scale': 0.5}\n",
            "Mean Absolute Percentage Error(MAPE)------------------------------------ 11.319885044065064\n",
            "{'changepoint_prior_scale': 0.001, 'n_changepoints': 150, 'seasonality_mode': 'additive', 'seasonality_prior_scale': 0.01}\n",
            "Mean Absolute Percentage Error(MAPE)------------------------------------ 11.619204149993404\n",
            "{'changepoint_prior_scale': 0.001, 'n_changepoints': 150, 'seasonality_mode': 'additive', 'seasonality_prior_scale': 0.1}\n",
            "Mean Absolute Percentage Error(MAPE)------------------------------------ 11.68017315024424\n",
            "{'changepoint_prior_scale': 0.001, 'n_changepoints': 150, 'seasonality_mode': 'additive', 'seasonality_prior_scale': 0.5}\n",
            "Mean Absolute Percentage Error(MAPE)------------------------------------ 11.686783498651604\n",
            "{'changepoint_prior_scale': 0.001, 'n_changepoints': 200, 'seasonality_mode': 'multiplicative', 'seasonality_prior_scale': 0.01}\n",
            "Mean Absolute Percentage Error(MAPE)------------------------------------ 11.125957509542458\n",
            "{'changepoint_prior_scale': 0.001, 'n_changepoints': 200, 'seasonality_mode': 'multiplicative', 'seasonality_prior_scale': 0.1}\n",
            "Mean Absolute Percentage Error(MAPE)------------------------------------ 11.620778499179849\n",
            "{'changepoint_prior_scale': 0.001, 'n_changepoints': 200, 'seasonality_mode': 'multiplicative', 'seasonality_prior_scale': 0.5}\n",
            "Mean Absolute Percentage Error(MAPE)------------------------------------ 11.216700335127248\n",
            "{'changepoint_prior_scale': 0.001, 'n_changepoints': 200, 'seasonality_mode': 'additive', 'seasonality_prior_scale': 0.01}\n",
            "Mean Absolute Percentage Error(MAPE)------------------------------------ 11.100102643786903\n",
            "{'changepoint_prior_scale': 0.001, 'n_changepoints': 200, 'seasonality_mode': 'additive', 'seasonality_prior_scale': 0.1}\n",
            "Mean Absolute Percentage Error(MAPE)------------------------------------ 11.728864306259078\n",
            "{'changepoint_prior_scale': 0.001, 'n_changepoints': 200, 'seasonality_mode': 'additive', 'seasonality_prior_scale': 0.5}\n",
            "Mean Absolute Percentage Error(MAPE)------------------------------------ 11.666523300558776\n",
            "{'changepoint_prior_scale': 0.01, 'n_changepoints': 100, 'seasonality_mode': 'multiplicative', 'seasonality_prior_scale': 0.01}\n",
            "Mean Absolute Percentage Error(MAPE)------------------------------------ 10.078655402731524\n",
            "{'changepoint_prior_scale': 0.01, 'n_changepoints': 100, 'seasonality_mode': 'multiplicative', 'seasonality_prior_scale': 0.1}\n",
            "Mean Absolute Percentage Error(MAPE)------------------------------------ 10.941060048686227\n",
            "{'changepoint_prior_scale': 0.01, 'n_changepoints': 100, 'seasonality_mode': 'multiplicative', 'seasonality_prior_scale': 0.5}\n",
            "Mean Absolute Percentage Error(MAPE)------------------------------------ 17.064505426673225\n",
            "{'changepoint_prior_scale': 0.01, 'n_changepoints': 100, 'seasonality_mode': 'additive', 'seasonality_prior_scale': 0.01}\n",
            "Mean Absolute Percentage Error(MAPE)------------------------------------ 10.412807726784102\n",
            "{'changepoint_prior_scale': 0.01, 'n_changepoints': 100, 'seasonality_mode': 'additive', 'seasonality_prior_scale': 0.1}\n",
            "Mean Absolute Percentage Error(MAPE)------------------------------------ 10.864033076016048\n",
            "{'changepoint_prior_scale': 0.01, 'n_changepoints': 100, 'seasonality_mode': 'additive', 'seasonality_prior_scale': 0.5}\n",
            "Mean Absolute Percentage Error(MAPE)------------------------------------ 10.880130462481139\n",
            "{'changepoint_prior_scale': 0.01, 'n_changepoints': 150, 'seasonality_mode': 'multiplicative', 'seasonality_prior_scale': 0.01}\n",
            "Mean Absolute Percentage Error(MAPE)------------------------------------ 10.023349390400949\n",
            "{'changepoint_prior_scale': 0.01, 'n_changepoints': 150, 'seasonality_mode': 'multiplicative', 'seasonality_prior_scale': 0.1}\n",
            "Mean Absolute Percentage Error(MAPE)------------------------------------ 10.588653882036652\n",
            "{'changepoint_prior_scale': 0.01, 'n_changepoints': 150, 'seasonality_mode': 'multiplicative', 'seasonality_prior_scale': 0.5}\n",
            "Mean Absolute Percentage Error(MAPE)------------------------------------ 14.074843710769649\n",
            "{'changepoint_prior_scale': 0.01, 'n_changepoints': 150, 'seasonality_mode': 'additive', 'seasonality_prior_scale': 0.01}\n",
            "Mean Absolute Percentage Error(MAPE)------------------------------------ 10.413136889295318\n",
            "{'changepoint_prior_scale': 0.01, 'n_changepoints': 150, 'seasonality_mode': 'additive', 'seasonality_prior_scale': 0.1}\n",
            "Mean Absolute Percentage Error(MAPE)------------------------------------ 10.872197204209014\n",
            "{'changepoint_prior_scale': 0.01, 'n_changepoints': 150, 'seasonality_mode': 'additive', 'seasonality_prior_scale': 0.5}\n",
            "Mean Absolute Percentage Error(MAPE)------------------------------------ 10.88583468995911\n",
            "{'changepoint_prior_scale': 0.01, 'n_changepoints': 200, 'seasonality_mode': 'multiplicative', 'seasonality_prior_scale': 0.01}\n",
            "Mean Absolute Percentage Error(MAPE)------------------------------------ 10.124143985447356\n",
            "{'changepoint_prior_scale': 0.01, 'n_changepoints': 200, 'seasonality_mode': 'multiplicative', 'seasonality_prior_scale': 0.1}\n",
            "Mean Absolute Percentage Error(MAPE)------------------------------------ 10.970028725357722\n",
            "{'changepoint_prior_scale': 0.01, 'n_changepoints': 200, 'seasonality_mode': 'multiplicative', 'seasonality_prior_scale': 0.5}\n",
            "Mean Absolute Percentage Error(MAPE)------------------------------------ 11.097808345126467\n",
            "{'changepoint_prior_scale': 0.01, 'n_changepoints': 200, 'seasonality_mode': 'additive', 'seasonality_prior_scale': 0.01}\n",
            "Mean Absolute Percentage Error(MAPE)------------------------------------ 10.454945258881816\n",
            "{'changepoint_prior_scale': 0.01, 'n_changepoints': 200, 'seasonality_mode': 'additive', 'seasonality_prior_scale': 0.1}\n",
            "Mean Absolute Percentage Error(MAPE)------------------------------------ 10.892317827859062\n",
            "{'changepoint_prior_scale': 0.01, 'n_changepoints': 200, 'seasonality_mode': 'additive', 'seasonality_prior_scale': 0.5}\n",
            "Mean Absolute Percentage Error(MAPE)------------------------------------ 10.892945048503641\n",
            "{'changepoint_prior_scale': 100, 'n_changepoints': 100, 'seasonality_mode': 'multiplicative', 'seasonality_prior_scale': 0.01}\n",
            "Mean Absolute Percentage Error(MAPE)------------------------------------ 22.50842650587982\n",
            "{'changepoint_prior_scale': 100, 'n_changepoints': 100, 'seasonality_mode': 'multiplicative', 'seasonality_prior_scale': 0.1}\n",
            "Mean Absolute Percentage Error(MAPE)------------------------------------ 18.99106136987434\n",
            "{'changepoint_prior_scale': 100, 'n_changepoints': 100, 'seasonality_mode': 'multiplicative', 'seasonality_prior_scale': 0.5}\n",
            "Mean Absolute Percentage Error(MAPE)------------------------------------ 19.045150874893547\n",
            "{'changepoint_prior_scale': 100, 'n_changepoints': 100, 'seasonality_mode': 'additive', 'seasonality_prior_scale': 0.01}\n",
            "Mean Absolute Percentage Error(MAPE)------------------------------------ 21.900990630079647\n",
            "{'changepoint_prior_scale': 100, 'n_changepoints': 100, 'seasonality_mode': 'additive', 'seasonality_prior_scale': 0.1}\n",
            "Mean Absolute Percentage Error(MAPE)------------------------------------ 20.633032717144314\n",
            "{'changepoint_prior_scale': 100, 'n_changepoints': 100, 'seasonality_mode': 'additive', 'seasonality_prior_scale': 0.5}\n",
            "Mean Absolute Percentage Error(MAPE)------------------------------------ 21.272570558877355\n",
            "{'changepoint_prior_scale': 100, 'n_changepoints': 150, 'seasonality_mode': 'multiplicative', 'seasonality_prior_scale': 0.01}\n",
            "Mean Absolute Percentage Error(MAPE)------------------------------------ 21.570864499150456\n",
            "{'changepoint_prior_scale': 100, 'n_changepoints': 150, 'seasonality_mode': 'multiplicative', 'seasonality_prior_scale': 0.1}\n",
            "Mean Absolute Percentage Error(MAPE)------------------------------------ 18.8034000524977\n",
            "{'changepoint_prior_scale': 100, 'n_changepoints': 150, 'seasonality_mode': 'multiplicative', 'seasonality_prior_scale': 0.5}\n",
            "Mean Absolute Percentage Error(MAPE)------------------------------------ 18.92556440381844\n",
            "{'changepoint_prior_scale': 100, 'n_changepoints': 150, 'seasonality_mode': 'additive', 'seasonality_prior_scale': 0.01}\n",
            "Mean Absolute Percentage Error(MAPE)------------------------------------ 21.426123067581475\n",
            "{'changepoint_prior_scale': 100, 'n_changepoints': 150, 'seasonality_mode': 'additive', 'seasonality_prior_scale': 0.1}\n",
            "Mean Absolute Percentage Error(MAPE)------------------------------------ 21.159930267618442\n",
            "{'changepoint_prior_scale': 100, 'n_changepoints': 150, 'seasonality_mode': 'additive', 'seasonality_prior_scale': 0.5}\n",
            "Mean Absolute Percentage Error(MAPE)------------------------------------ 20.442320610608242\n",
            "{'changepoint_prior_scale': 100, 'n_changepoints': 200, 'seasonality_mode': 'multiplicative', 'seasonality_prior_scale': 0.01}\n",
            "Mean Absolute Percentage Error(MAPE)------------------------------------ 21.688845754153643\n",
            "{'changepoint_prior_scale': 100, 'n_changepoints': 200, 'seasonality_mode': 'multiplicative', 'seasonality_prior_scale': 0.1}\n",
            "Mean Absolute Percentage Error(MAPE)------------------------------------ 20.11407619744515\n",
            "{'changepoint_prior_scale': 100, 'n_changepoints': 200, 'seasonality_mode': 'multiplicative', 'seasonality_prior_scale': 0.5}\n",
            "Mean Absolute Percentage Error(MAPE)------------------------------------ 18.87473777682805\n",
            "{'changepoint_prior_scale': 100, 'n_changepoints': 200, 'seasonality_mode': 'additive', 'seasonality_prior_scale': 0.01}\n",
            "Mean Absolute Percentage Error(MAPE)------------------------------------ 21.823952062761638\n",
            "{'changepoint_prior_scale': 100, 'n_changepoints': 200, 'seasonality_mode': 'additive', 'seasonality_prior_scale': 0.1}\n",
            "Mean Absolute Percentage Error(MAPE)------------------------------------ 20.953600512146757\n",
            "{'changepoint_prior_scale': 100, 'n_changepoints': 200, 'seasonality_mode': 'additive', 'seasonality_prior_scale': 0.5}\n",
            "Mean Absolute Percentage Error(MAPE)------------------------------------ 23.510537131611898\n",
            "{'changepoint_prior_scale': 200, 'n_changepoints': 100, 'seasonality_mode': 'multiplicative', 'seasonality_prior_scale': 0.01}\n",
            "Mean Absolute Percentage Error(MAPE)------------------------------------ 21.253135297353513\n",
            "{'changepoint_prior_scale': 200, 'n_changepoints': 100, 'seasonality_mode': 'multiplicative', 'seasonality_prior_scale': 0.1}\n",
            "Mean Absolute Percentage Error(MAPE)------------------------------------ 19.458916406974865\n",
            "{'changepoint_prior_scale': 200, 'n_changepoints': 100, 'seasonality_mode': 'multiplicative', 'seasonality_prior_scale': 0.5}\n",
            "Mean Absolute Percentage Error(MAPE)------------------------------------ 18.694973448843406\n",
            "{'changepoint_prior_scale': 200, 'n_changepoints': 100, 'seasonality_mode': 'additive', 'seasonality_prior_scale': 0.01}\n",
            "Mean Absolute Percentage Error(MAPE)------------------------------------ 22.62049944569455\n",
            "{'changepoint_prior_scale': 200, 'n_changepoints': 100, 'seasonality_mode': 'additive', 'seasonality_prior_scale': 0.1}\n",
            "Mean Absolute Percentage Error(MAPE)------------------------------------ 20.89380461819841\n",
            "{'changepoint_prior_scale': 200, 'n_changepoints': 100, 'seasonality_mode': 'additive', 'seasonality_prior_scale': 0.5}\n",
            "Mean Absolute Percentage Error(MAPE)------------------------------------ 20.357190647938907\n",
            "{'changepoint_prior_scale': 200, 'n_changepoints': 150, 'seasonality_mode': 'multiplicative', 'seasonality_prior_scale': 0.01}\n",
            "Mean Absolute Percentage Error(MAPE)------------------------------------ 21.743650364973426\n",
            "{'changepoint_prior_scale': 200, 'n_changepoints': 150, 'seasonality_mode': 'multiplicative', 'seasonality_prior_scale': 0.1}\n",
            "Mean Absolute Percentage Error(MAPE)------------------------------------ 19.104698570122313\n",
            "{'changepoint_prior_scale': 200, 'n_changepoints': 150, 'seasonality_mode': 'multiplicative', 'seasonality_prior_scale': 0.5}\n",
            "Mean Absolute Percentage Error(MAPE)------------------------------------ 18.894333446388167\n",
            "{'changepoint_prior_scale': 200, 'n_changepoints': 150, 'seasonality_mode': 'additive', 'seasonality_prior_scale': 0.01}\n",
            "Mean Absolute Percentage Error(MAPE)------------------------------------ 22.239972981717308\n",
            "{'changepoint_prior_scale': 200, 'n_changepoints': 150, 'seasonality_mode': 'additive', 'seasonality_prior_scale': 0.1}\n",
            "Mean Absolute Percentage Error(MAPE)------------------------------------ 20.813174789051704\n",
            "{'changepoint_prior_scale': 200, 'n_changepoints': 150, 'seasonality_mode': 'additive', 'seasonality_prior_scale': 0.5}\n",
            "Mean Absolute Percentage Error(MAPE)------------------------------------ 21.02236505517799\n",
            "{'changepoint_prior_scale': 200, 'n_changepoints': 200, 'seasonality_mode': 'multiplicative', 'seasonality_prior_scale': 0.01}\n",
            "Mean Absolute Percentage Error(MAPE)------------------------------------ 21.620707413153735\n",
            "{'changepoint_prior_scale': 200, 'n_changepoints': 200, 'seasonality_mode': 'multiplicative', 'seasonality_prior_scale': 0.1}\n",
            "Mean Absolute Percentage Error(MAPE)------------------------------------ 19.126916431343158\n",
            "{'changepoint_prior_scale': 200, 'n_changepoints': 200, 'seasonality_mode': 'multiplicative', 'seasonality_prior_scale': 0.5}\n",
            "Mean Absolute Percentage Error(MAPE)------------------------------------ 18.919008608367513\n",
            "{'changepoint_prior_scale': 200, 'n_changepoints': 200, 'seasonality_mode': 'additive', 'seasonality_prior_scale': 0.01}\n",
            "Mean Absolute Percentage Error(MAPE)------------------------------------ 21.43112497656155\n",
            "{'changepoint_prior_scale': 200, 'n_changepoints': 200, 'seasonality_mode': 'additive', 'seasonality_prior_scale': 0.1}\n",
            "Mean Absolute Percentage Error(MAPE)------------------------------------ 20.563441832371456\n",
            "{'changepoint_prior_scale': 200, 'n_changepoints': 200, 'seasonality_mode': 'additive', 'seasonality_prior_scale': 0.5}\n",
            "Mean Absolute Percentage Error(MAPE)------------------------------------ 20.363584366933456\n"
          ],
          "name": "stdout"
        }
      ]
    },
    {
      "cell_type": "code",
      "metadata": {
        "id": "HGu01wKSU5uz",
        "colab_type": "code",
        "outputId": "14e4786c-13e9-4507-c959-94ed0af170d3",
        "colab": {
          "base_uri": "https://localhost:8080/",
          "height": 204
        }
      },
      "source": [
        "parameters_fb2 = model_parameters.sort_values(by=['MAPE'])\n",
        "parameters_fb2 = parameters_fb2.reset_index(drop=True)\n",
        "parameters_fb2.to_csv('parameters_fb_prophet2.csv')\n",
        "parameters_fb2.head()"
      ],
      "execution_count": 0,
      "outputs": [
        {
          "output_type": "execute_result",
          "data": {
            "text/html": [
              "<div>\n",
              "<style scoped>\n",
              "    .dataframe tbody tr th:only-of-type {\n",
              "        vertical-align: middle;\n",
              "    }\n",
              "\n",
              "    .dataframe tbody tr th {\n",
              "        vertical-align: top;\n",
              "    }\n",
              "\n",
              "    .dataframe thead th {\n",
              "        text-align: right;\n",
              "    }\n",
              "</style>\n",
              "<table border=\"1\" class=\"dataframe\">\n",
              "  <thead>\n",
              "    <tr style=\"text-align: right;\">\n",
              "      <th></th>\n",
              "      <th>MAPE</th>\n",
              "      <th>Parameters</th>\n",
              "    </tr>\n",
              "  </thead>\n",
              "  <tbody>\n",
              "    <tr>\n",
              "      <th>0</th>\n",
              "      <td>10.023349</td>\n",
              "      <td>{'changepoint_prior_scale': 0.01, 'n_changepoi...</td>\n",
              "    </tr>\n",
              "    <tr>\n",
              "      <th>1</th>\n",
              "      <td>10.078655</td>\n",
              "      <td>{'changepoint_prior_scale': 0.01, 'n_changepoi...</td>\n",
              "    </tr>\n",
              "    <tr>\n",
              "      <th>2</th>\n",
              "      <td>10.124144</td>\n",
              "      <td>{'changepoint_prior_scale': 0.01, 'n_changepoi...</td>\n",
              "    </tr>\n",
              "    <tr>\n",
              "      <th>3</th>\n",
              "      <td>10.412808</td>\n",
              "      <td>{'changepoint_prior_scale': 0.01, 'n_changepoi...</td>\n",
              "    </tr>\n",
              "    <tr>\n",
              "      <th>4</th>\n",
              "      <td>10.413137</td>\n",
              "      <td>{'changepoint_prior_scale': 0.01, 'n_changepoi...</td>\n",
              "    </tr>\n",
              "  </tbody>\n",
              "</table>\n",
              "</div>"
            ],
            "text/plain": [
              "        MAPE                                         Parameters\n",
              "0  10.023349  {'changepoint_prior_scale': 0.01, 'n_changepoi...\n",
              "1  10.078655  {'changepoint_prior_scale': 0.01, 'n_changepoi...\n",
              "2  10.124144  {'changepoint_prior_scale': 0.01, 'n_changepoi...\n",
              "3  10.412808  {'changepoint_prior_scale': 0.01, 'n_changepoi...\n",
              "4  10.413137  {'changepoint_prior_scale': 0.01, 'n_changepoi..."
            ]
          },
          "metadata": {
            "tags": []
          },
          "execution_count": 12
        }
      ]
    },
    {
      "cell_type": "code",
      "metadata": {
        "id": "w_GTFbiYVAc3",
        "colab_type": "code",
        "outputId": "d781600a-9e64-4d2b-eb82-c6df0f61dbbf",
        "colab": {
          "base_uri": "https://localhost:8080/",
          "height": 85
        }
      },
      "source": [
        "parameters_fb2['Parameters'][0]"
      ],
      "execution_count": 0,
      "outputs": [
        {
          "output_type": "execute_result",
          "data": {
            "text/plain": [
              "{'changepoint_prior_scale': 0.01,\n",
              " 'n_changepoints': 150,\n",
              " 'seasonality_mode': 'multiplicative',\n",
              " 'seasonality_prior_scale': 0.01}"
            ]
          },
          "metadata": {
            "tags": []
          },
          "execution_count": 13
        }
      ]
    }
  ]
}