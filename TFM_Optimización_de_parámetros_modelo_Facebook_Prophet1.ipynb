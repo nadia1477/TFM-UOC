{
  "nbformat": 4,
  "nbformat_minor": 0,
  "metadata": {
    "colab": {
      "name": "TFM_Optimización_de_parámetros_modelo_Facebook_Prophet1.ipynb",
      "provenance": [],
      "machine_shape": "hm"
    },
    "kernelspec": {
      "name": "python3",
      "display_name": "Python 3"
    },
    "accelerator": "GPU"
  },
  "cells": [
    {
      "cell_type": "markdown",
      "metadata": {
        "id": "HlqFgN8Mn5Wj",
        "colab_type": "text"
      },
      "source": [
        "**Optimización de parámetros  modelo Facebook Prophet**"
      ]
    },
    {
      "cell_type": "code",
      "metadata": {
        "id": "3DCqj9qoYaTG",
        "colab_type": "code",
        "colab": {
          "base_uri": "https://localhost:8080/",
          "height": 71
        },
        "outputId": "2711de14-eb2c-423d-bbb1-ffd5c37bdfd4"
      },
      "source": [
        "import numpy as np\n",
        "import pandas as pd\n",
        "from google.colab import drive\n",
        "import matplotlib.pyplot as plt\n",
        "from sklearn import metrics\n",
        "%matplotlib inline\n",
        "from matplotlib.pylab import rcParams\n",
        "import seaborn as sns\n",
        "rcParams['figure.figsize']=10,8"
      ],
      "execution_count": 3,
      "outputs": [
        {
          "output_type": "stream",
          "text": [
            "/usr/local/lib/python3.6/dist-packages/statsmodels/tools/_testing.py:19: FutureWarning: pandas.util.testing is deprecated. Use the functions in the public API at pandas.testing instead.\n",
            "  import pandas.util.testing as tm\n"
          ],
          "name": "stderr"
        }
      ]
    },
    {
      "cell_type": "code",
      "metadata": {
        "id": "JCZmTDtPYeb-",
        "colab_type": "code",
        "colab": {}
      },
      "source": [
        "import warnings\n",
        "import itertools\n",
        "warnings.filterwarnings(\"ignore\") # specify to ignore warning messages"
      ],
      "execution_count": 4,
      "outputs": []
    },
    {
      "cell_type": "code",
      "metadata": {
        "id": "t5KOVcn-YhNu",
        "colab_type": "code",
        "colab": {
          "base_uri": "https://localhost:8080/",
          "height": 122
        },
        "outputId": "dd34a452-0bf8-461d-f329-2698e36a9886"
      },
      "source": [
        "drive.mount('/content/gdrive')"
      ],
      "execution_count": 5,
      "outputs": [
        {
          "output_type": "stream",
          "text": [
            "Go to this URL in a browser: https://accounts.google.com/o/oauth2/auth?client_id=947318989803-6bn6qk8qdgf4n4g3pfee6491hc0brc4i.apps.googleusercontent.com&redirect_uri=urn%3aietf%3awg%3aoauth%3a2.0%3aoob&response_type=code&scope=email%20https%3a%2f%2fwww.googleapis.com%2fauth%2fdocs.test%20https%3a%2f%2fwww.googleapis.com%2fauth%2fdrive%20https%3a%2f%2fwww.googleapis.com%2fauth%2fdrive.photos.readonly%20https%3a%2f%2fwww.googleapis.com%2fauth%2fpeopleapi.readonly\n",
            "\n",
            "Enter your authorization code:\n",
            "··········\n",
            "Mounted at /content/gdrive\n"
          ],
          "name": "stdout"
        }
      ]
    },
    {
      "cell_type": "code",
      "metadata": {
        "id": "gGjG4fFXYn4-",
        "colab_type": "code",
        "colab": {}
      },
      "source": [
        "df = pd.read_csv('/content/gdrive/My Drive/df_clean.csv', parse_dates=['Datetime'], index_col='Datetime',  header=0)\n"
      ],
      "execution_count": 6,
      "outputs": []
    },
    {
      "cell_type": "code",
      "metadata": {
        "id": "T30KaY1jYv6n",
        "colab_type": "code",
        "colab": {}
      },
      "source": [
        "import logging\n",
        "logging.getLogger('fbprophet').setLevel(logging.ERROR)\n"
      ],
      "execution_count": 7,
      "outputs": []
    },
    {
      "cell_type": "code",
      "metadata": {
        "id": "-t1YSlPgY1ZN",
        "colab_type": "code",
        "colab": {}
      },
      "source": [
        "import fbprophet\n",
        "import holidays\n",
        "Prophet = fbprophet.Prophet"
      ],
      "execution_count": 8,
      "outputs": []
    },
    {
      "cell_type": "code",
      "metadata": {
        "id": "dUHq63xKY3oE",
        "colab_type": "code",
        "colab": {}
      },
      "source": [
        "upsampled = df.resample('D')\n",
        "interpolated = upsampled.interpolate(method='linear').shift(6)\n",
        "len(interpolated)\n",
        "df_o3_resample = interpolated\n",
        "df_prophet=df_o3_resample\n",
        "df_prophet=df_prophet.reset_index()\n",
        "df_prophet=df_prophet.rename(columns={'Datetime':'ds',\n",
        "                     'O3':'y'})"
      ],
      "execution_count": 9,
      "outputs": []
    },
    {
      "cell_type": "code",
      "metadata": {
        "id": "ucP2ORnjZM-F",
        "colab_type": "code",
        "colab": {
          "base_uri": "https://localhost:8080/",
          "height": 187
        },
        "outputId": "4fa4d116-c5e6-486e-ac6f-efcb9672f491"
      },
      "source": [
        "holidays_df = pd.DataFrame([], columns = ['ds','holiday'])\n",
        "ldates = []\n",
        "lnames = []\n",
        "for date, name in sorted(holidays.UK( years=np.arange(2008, 2019 + 1)).items()):\n",
        "    ldates.append(date)\n",
        "    lnames.append(name)\n",
        "holidays_df.loc[:,'ds'] = ldates\n",
        "holidays_df.loc[:,'holiday'] = lnames\n",
        "holidays_df.loc[:,'holiday'] = holidays_df.loc[:,'holiday'].apply(lambda x : x.replace(' (Observed)',''))\n",
        "holidays_df.holiday.unique()"
      ],
      "execution_count": 10,
      "outputs": [
        {
          "output_type": "execute_result",
          "data": {
            "text/plain": [
              "array([\"New Year's Day\", 'New Year Holiday [Scotland]',\n",
              "       \"St. Patrick's Day [Northern Ireland]\", 'Good Friday',\n",
              "       'Easter Monday [England, Wales, Northern Ireland]', 'May Day',\n",
              "       'Spring Bank Holiday', 'Battle of the Boyne [Northern Ireland]',\n",
              "       'Summer Bank Holiday [Scotland]',\n",
              "       'Late Summer Bank Holiday [England, Wales, Northern Ireland]',\n",
              "       \"St. Andrew's Day [Scotland]\", 'Christmas Day', 'Boxing Day',\n",
              "       'Wedding of William and Catherine',\n",
              "       \"New Year Holiday [Scotland], New Year's Day\",\n",
              "       'Diamond Jubilee of Elizabeth II'], dtype=object)"
            ]
          },
          "metadata": {
            "tags": []
          },
          "execution_count": 10
        }
      ]
    },
    {
      "cell_type": "code",
      "metadata": {
        "id": "3USGmvffZbRM",
        "colab_type": "code",
        "colab": {}
      },
      "source": [
        "TEST_SIZE = 365\n",
        "train, test = df_prophet.iloc[:-TEST_SIZE], df_prophet.iloc[-TEST_SIZE:]   "
      ],
      "execution_count": 11,
      "outputs": []
    },
    {
      "cell_type": "code",
      "metadata": {
        "id": "_kjl_NxHZdlM",
        "colab_type": "code",
        "colab": {
          "base_uri": "https://localhost:8080/",
          "height": 34
        },
        "outputId": "b399bbe6-999f-4353-cbc2-fded95d750e0"
      },
      "source": [
        "from sklearn.model_selection import ParameterGrid\n",
        "params_grid = {'seasonality_mode':('multiplicative','additive'),\n",
        "               'changepoint_prior_scale':[0.05, 0.1, 1,10],\n",
        "              'n_changepoints' : [100,150,200]}\n",
        "grid = ParameterGrid(params_grid)\n",
        "cnt = 0\n",
        "for p in grid:\n",
        "    cnt = cnt+1\n",
        "\n",
        "print('Total Possible Models',cnt)"
      ],
      "execution_count": 12,
      "outputs": [
        {
          "output_type": "stream",
          "text": [
            "Total Possible Models 24\n"
          ],
          "name": "stdout"
        }
      ]
    },
    {
      "cell_type": "code",
      "metadata": {
        "id": "HdfFKldFZgCn",
        "colab_type": "code",
        "colab": {}
      },
      "source": [
        "def mean_absolute_percentage_error(y_true, y_pred): \n",
        "    y_true, y_pred = np.array(y_true), np.array(y_pred)\n",
        "    return np.mean(np.abs((y_true - y_pred) / y_true)) * 100"
      ],
      "execution_count": 13,
      "outputs": []
    },
    {
      "cell_type": "code",
      "metadata": {
        "id": "e0_S7SNaZiJk",
        "colab_type": "code",
        "colab": {
          "base_uri": "https://localhost:8080/",
          "height": 816
        },
        "outputId": "0a51e9ed-951b-437d-ad2b-88f8db3ecdcf"
      },
      "source": [
        "import random\n",
        "\n",
        "strt='2018-07-01'\n",
        "end='2019-07-01'\n",
        "model_parameters = pd.DataFrame(columns = ['MAPE','Parameters'])\n",
        "for p in grid:\n",
        "  test = pd.DataFrame()\n",
        "  print(p)\n",
        "  random.seed(0)\n",
        "  train_model =Prophet(holidays=holidays_df, changepoint_prior_scale = p['changepoint_prior_scale'],\n",
        "                         \n",
        "                         n_changepoints = p['n_changepoints'],\n",
        "                         seasonality_mode = p['seasonality_mode'],\n",
        "                         weekly_seasonality=True,\n",
        "                         daily_seasonality = True,\n",
        "                         yearly_seasonality = True,\n",
        "                         interval_width=0.95)  \n",
        "  train_model.fit(train)\n",
        "  train_forecast = train_model.make_future_dataframe(periods=365, freq='D',include_history = False)\n",
        "  train_forecast = train_model.predict(train_forecast)\n",
        "  test=train_forecast[['ds','yhat']]\n",
        "  Actual = df_prophet[(df_prophet['ds']>strt) & (df_prophet['ds']<=end)]\n",
        "  MAPE = mean_absolute_percentage_error(Actual['y'],abs(test['yhat']))\n",
        "  print('Mean Absolute Percentage Error(MAPE)------------------------------------',MAPE)\n",
        "  model_parameters = model_parameters.append({'MAPE':MAPE,'Parameters':p},ignore_index=True)"
      ],
      "execution_count": 14,
      "outputs": [
        {
          "output_type": "stream",
          "text": [
            "{'changepoint_prior_scale': 0.05, 'n_changepoints': 100, 'seasonality_mode': 'multiplicative'}\n"
          ],
          "name": "stdout"
        },
        {
          "output_type": "stream",
          "text": [
            "INFO:numexpr.utils:NumExpr defaulting to 4 threads.\n"
          ],
          "name": "stderr"
        },
        {
          "output_type": "stream",
          "text": [
            "Mean Absolute Percentage Error(MAPE)------------------------------------ 17.445464570930223\n",
            "{'changepoint_prior_scale': 0.05, 'n_changepoints': 100, 'seasonality_mode': 'additive'}\n",
            "Mean Absolute Percentage Error(MAPE)------------------------------------ 17.43488920904063\n",
            "{'changepoint_prior_scale': 0.05, 'n_changepoints': 150, 'seasonality_mode': 'additive'}\n",
            "Mean Absolute Percentage Error(MAPE)------------------------------------ 14.773180135879274\n",
            "{'changepoint_prior_scale': 0.05, 'n_changepoints': 200, 'seasonality_mode': 'multiplicative'}\n",
            "Mean Absolute Percentage Error(MAPE)------------------------------------ 18.14291306660053\n",
            "{'changepoint_prior_scale': 0.05, 'n_changepoints': 200, 'seasonality_mode': 'additive'}\n",
            "Mean Absolute Percentage Error(MAPE)------------------------------------ 14.164963803416109\n",
            "{'changepoint_prior_scale': 0.1, 'n_changepoints': 100, 'seasonality_mode': 'multiplicative'}\n",
            "Mean Absolute Percentage Error(MAPE)------------------------------------ 17.787645842976158\n",
            "{'changepoint_prior_scale': 0.1, 'n_changepoints': 100, 'seasonality_mode': 'additive'}\n",
            "Mean Absolute Percentage Error(MAPE)------------------------------------ 17.76047330396825\n",
            "{'changepoint_prior_scale': 0.1, 'n_changepoints': 150, 'seasonality_mode': 'multiplicative'}\n",
            "Mean Absolute Percentage Error(MAPE)------------------------------------ 17.72825482346615\n",
            "{'changepoint_prior_scale': 0.1, 'n_changepoints': 150, 'seasonality_mode': 'additive'}\n",
            "Mean Absolute Percentage Error(MAPE)------------------------------------ 17.985975530170943\n",
            "{'changepoint_prior_scale': 0.1, 'n_changepoints': 200, 'seasonality_mode': 'multiplicative'}\n",
            "Mean Absolute Percentage Error(MAPE)------------------------------------ 18.637732687659543\n",
            "{'changepoint_prior_scale': 0.1, 'n_changepoints': 200, 'seasonality_mode': 'additive'}\n",
            "Mean Absolute Percentage Error(MAPE)------------------------------------ 17.770193483544652\n",
            "{'changepoint_prior_scale': 1, 'n_changepoints': 100, 'seasonality_mode': 'multiplicative'}\n",
            "Mean Absolute Percentage Error(MAPE)------------------------------------ 18.09278483860498\n",
            "{'changepoint_prior_scale': 1, 'n_changepoints': 100, 'seasonality_mode': 'additive'}\n",
            "Mean Absolute Percentage Error(MAPE)------------------------------------ 19.80107285355843\n",
            "{'changepoint_prior_scale': 1, 'n_changepoints': 150, 'seasonality_mode': 'multiplicative'}\n",
            "Mean Absolute Percentage Error(MAPE)------------------------------------ 17.911942495701936\n",
            "{'changepoint_prior_scale': 1, 'n_changepoints': 150, 'seasonality_mode': 'additive'}\n",
            "Mean Absolute Percentage Error(MAPE)------------------------------------ 19.818831833256603\n",
            "{'changepoint_prior_scale': 1, 'n_changepoints': 200, 'seasonality_mode': 'multiplicative'}\n",
            "Mean Absolute Percentage Error(MAPE)------------------------------------ 17.996186348014255\n",
            "{'changepoint_prior_scale': 1, 'n_changepoints': 200, 'seasonality_mode': 'additive'}\n",
            "Mean Absolute Percentage Error(MAPE)------------------------------------ 19.949364999170022\n",
            "{'changepoint_prior_scale': 10, 'n_changepoints': 100, 'seasonality_mode': 'multiplicative'}\n",
            "Mean Absolute Percentage Error(MAPE)------------------------------------ 17.97016513760482\n",
            "{'changepoint_prior_scale': 10, 'n_changepoints': 100, 'seasonality_mode': 'additive'}\n",
            "Mean Absolute Percentage Error(MAPE)------------------------------------ 19.629361210095723\n",
            "{'changepoint_prior_scale': 10, 'n_changepoints': 150, 'seasonality_mode': 'multiplicative'}\n",
            "Mean Absolute Percentage Error(MAPE)------------------------------------ 17.90690230543658\n",
            "{'changepoint_prior_scale': 10, 'n_changepoints': 150, 'seasonality_mode': 'additive'}\n",
            "Mean Absolute Percentage Error(MAPE)------------------------------------ 19.921382568258185\n",
            "{'changepoint_prior_scale': 10, 'n_changepoints': 200, 'seasonality_mode': 'multiplicative'}\n",
            "Mean Absolute Percentage Error(MAPE)------------------------------------ 18.145531600246205\n",
            "{'changepoint_prior_scale': 10, 'n_changepoints': 200, 'seasonality_mode': 'additive'}\n",
            "Mean Absolute Percentage Error(MAPE)------------------------------------ 19.781750365581715\n"
          ],
          "name": "stdout"
        }
      ]
    },
    {
      "cell_type": "code",
      "metadata": {
        "id": "uV3N9RqGdeFg",
        "colab_type": "code",
        "colab": {
          "base_uri": "https://localhost:8080/",
          "height": 204
        },
        "outputId": "59ef4131-5267-4943-8c86-3481acff382b"
      },
      "source": [
        "parameters_fb = model_parameters.sort_values(by=['MAPE'])\n",
        "parameters_fb = parameters_fb.reset_index(drop=True)\n",
        "parameters_fb.to_csv('parameters_fb_prophet.csv')\n",
        "parameters_fb.head()"
      ],
      "execution_count": 15,
      "outputs": [
        {
          "output_type": "execute_result",
          "data": {
            "text/html": [
              "<div>\n",
              "<style scoped>\n",
              "    .dataframe tbody tr th:only-of-type {\n",
              "        vertical-align: middle;\n",
              "    }\n",
              "\n",
              "    .dataframe tbody tr th {\n",
              "        vertical-align: top;\n",
              "    }\n",
              "\n",
              "    .dataframe thead th {\n",
              "        text-align: right;\n",
              "    }\n",
              "</style>\n",
              "<table border=\"1\" class=\"dataframe\">\n",
              "  <thead>\n",
              "    <tr style=\"text-align: right;\">\n",
              "      <th></th>\n",
              "      <th>MAPE</th>\n",
              "      <th>Parameters</th>\n",
              "    </tr>\n",
              "  </thead>\n",
              "  <tbody>\n",
              "    <tr>\n",
              "      <th>0</th>\n",
              "      <td>14.164964</td>\n",
              "      <td>{'changepoint_prior_scale': 0.05, 'n_changepoi...</td>\n",
              "    </tr>\n",
              "    <tr>\n",
              "      <th>1</th>\n",
              "      <td>14.541550</td>\n",
              "      <td>{'changepoint_prior_scale': 0.05, 'n_changepoi...</td>\n",
              "    </tr>\n",
              "    <tr>\n",
              "      <th>2</th>\n",
              "      <td>14.773180</td>\n",
              "      <td>{'changepoint_prior_scale': 0.05, 'n_changepoi...</td>\n",
              "    </tr>\n",
              "    <tr>\n",
              "      <th>3</th>\n",
              "      <td>17.434889</td>\n",
              "      <td>{'changepoint_prior_scale': 0.05, 'n_changepoi...</td>\n",
              "    </tr>\n",
              "    <tr>\n",
              "      <th>4</th>\n",
              "      <td>17.445465</td>\n",
              "      <td>{'changepoint_prior_scale': 0.05, 'n_changepoi...</td>\n",
              "    </tr>\n",
              "  </tbody>\n",
              "</table>\n",
              "</div>"
            ],
            "text/plain": [
              "        MAPE                                         Parameters\n",
              "0  14.164964  {'changepoint_prior_scale': 0.05, 'n_changepoi...\n",
              "1  14.541550  {'changepoint_prior_scale': 0.05, 'n_changepoi...\n",
              "2  14.773180  {'changepoint_prior_scale': 0.05, 'n_changepoi...\n",
              "3  17.434889  {'changepoint_prior_scale': 0.05, 'n_changepoi...\n",
              "4  17.445465  {'changepoint_prior_scale': 0.05, 'n_changepoi..."
            ]
          },
          "metadata": {
            "tags": []
          },
          "execution_count": 15
        }
      ]
    },
    {
      "cell_type": "code",
      "metadata": {
        "id": "gao4NgMUk9Wg",
        "colab_type": "code",
        "colab": {
          "base_uri": "https://localhost:8080/",
          "height": 68
        },
        "outputId": "87607a56-86d1-4c50-82af-39fb6da36b15"
      },
      "source": [
        "parameters_fb['Parameters'][0]"
      ],
      "execution_count": 16,
      "outputs": [
        {
          "output_type": "execute_result",
          "data": {
            "text/plain": [
              "{'changepoint_prior_scale': 0.05,\n",
              " 'n_changepoints': 200,\n",
              " 'seasonality_mode': 'additive'}"
            ]
          },
          "metadata": {
            "tags": []
          },
          "execution_count": 16
        }
      ]
    },
    {
      "cell_type": "markdown",
      "metadata": {
        "id": "fJx_bvkKI7n5",
        "colab_type": "text"
      },
      "source": [
        ""
      ]
    },
    {
      "cell_type": "markdown",
      "metadata": {
        "id": "NWSYpSJcUxtV",
        "colab_type": "text"
      },
      "source": [
        "Parámetros sin festivos"
      ]
    },
    {
      "cell_type": "code",
      "metadata": {
        "id": "jIq8dM6wUrpC",
        "colab_type": "code",
        "colab": {
          "base_uri": "https://localhost:8080/",
          "height": 833
        },
        "outputId": "8a23026c-7559-4c6e-e02f-f6c4ac4e7f88"
      },
      "source": [
        "import random\n",
        "\n",
        "strt='2018-07-01'\n",
        "end='2019-07-01'\n",
        "model_parameters = pd.DataFrame(columns = ['MAPE','Parameters'])\n",
        "for p in grid:\n",
        "  test = pd.DataFrame()\n",
        "  print(p)\n",
        "  random.seed(0)\n",
        "  train_model =Prophet( changepoint_prior_scale = p['changepoint_prior_scale'],\n",
        "                         \n",
        "                         n_changepoints = p['n_changepoints'],\n",
        "                         seasonality_mode = p['seasonality_mode'],\n",
        "                         weekly_seasonality=True,\n",
        "                         daily_seasonality = True,\n",
        "                         yearly_seasonality = True,\n",
        "                         interval_width=0.95)  \n",
        "  train_model.fit(train)\n",
        "  train_forecast = train_model.make_future_dataframe(periods=365, freq='D',include_history = False)\n",
        "  train_forecast = train_model.predict(train_forecast)\n",
        "  test=train_forecast[['ds','yhat']]\n",
        "  Actual = df_prophet[(df_prophet['ds']>strt) & (df_prophet['ds']<=end)]\n",
        "  MAPE = mean_absolute_percentage_error(Actual['y'],abs(test['yhat']))\n",
        "  print('Mean Absolute Percentage Error(MAPE)------------------------------------',MAPE)\n",
        "  model_parameters = model_parameters.append({'MAPE':MAPE,'Parameters':p},ignore_index=True)"
      ],
      "execution_count": 17,
      "outputs": [
        {
          "output_type": "stream",
          "text": [
            "{'changepoint_prior_scale': 0.05, 'n_changepoints': 100, 'seasonality_mode': 'multiplicative'}\n",
            "Mean Absolute Percentage Error(MAPE)------------------------------------ 17.782711393712248\n",
            "{'changepoint_prior_scale': 0.05, 'n_changepoints': 100, 'seasonality_mode': 'additive'}\n",
            "Mean Absolute Percentage Error(MAPE)------------------------------------ 14.681564065436753\n",
            "{'changepoint_prior_scale': 0.05, 'n_changepoints': 150, 'seasonality_mode': 'multiplicative'}\n",
            "Mean Absolute Percentage Error(MAPE)------------------------------------ 17.775031896441877\n",
            "{'changepoint_prior_scale': 0.05, 'n_changepoints': 150, 'seasonality_mode': 'additive'}\n",
            "Mean Absolute Percentage Error(MAPE)------------------------------------ 14.469017075385434\n",
            "{'changepoint_prior_scale': 0.05, 'n_changepoints': 200, 'seasonality_mode': 'multiplicative'}\n",
            "Mean Absolute Percentage Error(MAPE)------------------------------------ 17.521383856556003\n",
            "{'changepoint_prior_scale': 0.05, 'n_changepoints': 200, 'seasonality_mode': 'additive'}\n",
            "Mean Absolute Percentage Error(MAPE)------------------------------------ 14.404091787991769\n",
            "{'changepoint_prior_scale': 0.1, 'n_changepoints': 100, 'seasonality_mode': 'multiplicative'}\n",
            "Mean Absolute Percentage Error(MAPE)------------------------------------ 17.572676122211217\n",
            "{'changepoint_prior_scale': 0.1, 'n_changepoints': 100, 'seasonality_mode': 'additive'}\n",
            "Mean Absolute Percentage Error(MAPE)------------------------------------ 17.770867157764837\n",
            "{'changepoint_prior_scale': 0.1, 'n_changepoints': 150, 'seasonality_mode': 'multiplicative'}\n",
            "Mean Absolute Percentage Error(MAPE)------------------------------------ 18.26869873702684\n",
            "{'changepoint_prior_scale': 0.1, 'n_changepoints': 150, 'seasonality_mode': 'additive'}\n",
            "Mean Absolute Percentage Error(MAPE)------------------------------------ 17.83895608290838\n",
            "{'changepoint_prior_scale': 0.1, 'n_changepoints': 200, 'seasonality_mode': 'multiplicative'}\n",
            "Mean Absolute Percentage Error(MAPE)------------------------------------ 17.374019196572185\n",
            "{'changepoint_prior_scale': 0.1, 'n_changepoints': 200, 'seasonality_mode': 'additive'}\n",
            "Mean Absolute Percentage Error(MAPE)------------------------------------ 17.871496507027665\n",
            "{'changepoint_prior_scale': 1, 'n_changepoints': 100, 'seasonality_mode': 'multiplicative'}\n",
            "Mean Absolute Percentage Error(MAPE)------------------------------------ 18.01103015750153\n",
            "{'changepoint_prior_scale': 1, 'n_changepoints': 100, 'seasonality_mode': 'additive'}\n",
            "Mean Absolute Percentage Error(MAPE)------------------------------------ 20.86231216683936\n",
            "{'changepoint_prior_scale': 1, 'n_changepoints': 150, 'seasonality_mode': 'multiplicative'}\n",
            "Mean Absolute Percentage Error(MAPE)------------------------------------ 17.83205304480538\n",
            "{'changepoint_prior_scale': 1, 'n_changepoints': 150, 'seasonality_mode': 'additive'}\n",
            "Mean Absolute Percentage Error(MAPE)------------------------------------ 19.766510740766623\n",
            "{'changepoint_prior_scale': 1, 'n_changepoints': 200, 'seasonality_mode': 'multiplicative'}\n",
            "Mean Absolute Percentage Error(MAPE)------------------------------------ 17.419590334513472\n",
            "{'changepoint_prior_scale': 1, 'n_changepoints': 200, 'seasonality_mode': 'additive'}\n",
            "Mean Absolute Percentage Error(MAPE)------------------------------------ 19.885807900305615\n",
            "{'changepoint_prior_scale': 10, 'n_changepoints': 100, 'seasonality_mode': 'multiplicative'}\n",
            "Mean Absolute Percentage Error(MAPE)------------------------------------ 17.984931447946703\n",
            "{'changepoint_prior_scale': 10, 'n_changepoints': 100, 'seasonality_mode': 'additive'}\n",
            "Mean Absolute Percentage Error(MAPE)------------------------------------ 20.08422356474739\n",
            "{'changepoint_prior_scale': 10, 'n_changepoints': 150, 'seasonality_mode': 'multiplicative'}\n",
            "Mean Absolute Percentage Error(MAPE)------------------------------------ 17.948863260905906\n",
            "{'changepoint_prior_scale': 10, 'n_changepoints': 150, 'seasonality_mode': 'additive'}\n",
            "Mean Absolute Percentage Error(MAPE)------------------------------------ 20.01042257814481\n",
            "{'changepoint_prior_scale': 10, 'n_changepoints': 200, 'seasonality_mode': 'multiplicative'}\n",
            "Mean Absolute Percentage Error(MAPE)------------------------------------ 17.681535724405357\n",
            "{'changepoint_prior_scale': 10, 'n_changepoints': 200, 'seasonality_mode': 'additive'}\n",
            "Mean Absolute Percentage Error(MAPE)------------------------------------ 19.943390102800297\n"
          ],
          "name": "stdout"
        }
      ]
    },
    {
      "cell_type": "code",
      "metadata": {
        "id": "HGu01wKSU5uz",
        "colab_type": "code",
        "colab": {
          "base_uri": "https://localhost:8080/",
          "height": 204
        },
        "outputId": "9c4e69c9-1631-4eca-ade0-64326b0a967a"
      },
      "source": [
        "parameters_fb2 = model_parameters.sort_values(by=['MAPE'])\n",
        "parameters_fb2 = parameters_fb2.reset_index(drop=True)\n",
        "parameters_fb2.to_csv('parameters_fb_prophet2.csv')\n",
        "parameters_fb2.head()"
      ],
      "execution_count": 18,
      "outputs": [
        {
          "output_type": "execute_result",
          "data": {
            "text/html": [
              "<div>\n",
              "<style scoped>\n",
              "    .dataframe tbody tr th:only-of-type {\n",
              "        vertical-align: middle;\n",
              "    }\n",
              "\n",
              "    .dataframe tbody tr th {\n",
              "        vertical-align: top;\n",
              "    }\n",
              "\n",
              "    .dataframe thead th {\n",
              "        text-align: right;\n",
              "    }\n",
              "</style>\n",
              "<table border=\"1\" class=\"dataframe\">\n",
              "  <thead>\n",
              "    <tr style=\"text-align: right;\">\n",
              "      <th></th>\n",
              "      <th>MAPE</th>\n",
              "      <th>Parameters</th>\n",
              "    </tr>\n",
              "  </thead>\n",
              "  <tbody>\n",
              "    <tr>\n",
              "      <th>0</th>\n",
              "      <td>14.404092</td>\n",
              "      <td>{'changepoint_prior_scale': 0.05, 'n_changepoi...</td>\n",
              "    </tr>\n",
              "    <tr>\n",
              "      <th>1</th>\n",
              "      <td>14.469017</td>\n",
              "      <td>{'changepoint_prior_scale': 0.05, 'n_changepoi...</td>\n",
              "    </tr>\n",
              "    <tr>\n",
              "      <th>2</th>\n",
              "      <td>14.681564</td>\n",
              "      <td>{'changepoint_prior_scale': 0.05, 'n_changepoi...</td>\n",
              "    </tr>\n",
              "    <tr>\n",
              "      <th>3</th>\n",
              "      <td>17.374019</td>\n",
              "      <td>{'changepoint_prior_scale': 0.1, 'n_changepoin...</td>\n",
              "    </tr>\n",
              "    <tr>\n",
              "      <th>4</th>\n",
              "      <td>17.419590</td>\n",
              "      <td>{'changepoint_prior_scale': 1, 'n_changepoints...</td>\n",
              "    </tr>\n",
              "  </tbody>\n",
              "</table>\n",
              "</div>"
            ],
            "text/plain": [
              "        MAPE                                         Parameters\n",
              "0  14.404092  {'changepoint_prior_scale': 0.05, 'n_changepoi...\n",
              "1  14.469017  {'changepoint_prior_scale': 0.05, 'n_changepoi...\n",
              "2  14.681564  {'changepoint_prior_scale': 0.05, 'n_changepoi...\n",
              "3  17.374019  {'changepoint_prior_scale': 0.1, 'n_changepoin...\n",
              "4  17.419590  {'changepoint_prior_scale': 1, 'n_changepoints..."
            ]
          },
          "metadata": {
            "tags": []
          },
          "execution_count": 18
        }
      ]
    },
    {
      "cell_type": "code",
      "metadata": {
        "id": "w_GTFbiYVAc3",
        "colab_type": "code",
        "colab": {
          "base_uri": "https://localhost:8080/",
          "height": 68
        },
        "outputId": "3a210b6f-5dc1-4371-c5f7-9f5a64b0449f"
      },
      "source": [
        "parameters_fb2['Parameters'][0]"
      ],
      "execution_count": 19,
      "outputs": [
        {
          "output_type": "execute_result",
          "data": {
            "text/plain": [
              "{'changepoint_prior_scale': 0.05,\n",
              " 'n_changepoints': 200,\n",
              " 'seasonality_mode': 'additive'}"
            ]
          },
          "metadata": {
            "tags": []
          },
          "execution_count": 19
        }
      ]
    },
    {
      "cell_type": "markdown",
      "metadata": {
        "id": "rOk5pHs-Ez4r",
        "colab_type": "text"
      },
      "source": [
        "**Referencias**\n",
        "\n",
        "https://www.kaggle.com/manovirat/timeseries-using-prophet-hyperparameter-tuning"
      ]
    }
  ]
}